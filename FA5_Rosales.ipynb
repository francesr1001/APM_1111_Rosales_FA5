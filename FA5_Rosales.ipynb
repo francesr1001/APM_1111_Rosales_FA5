{
 "cells": [
  {
   "cell_type": "markdown",
   "id": "02fcfa4c",
   "metadata": {},
   "source": [
    "\n",
    "        \n",
    "<div> \n",
    "\t\t\t<h2 style =\" margin-top: 5px;\" >&emsp;&emsp;&emsp;&emsp;Name: Frances Aneth Rosales <br> &emsp;&emsp;&emsp;&emsp;Student Number: 2021044631 <br> &emsp;&emsp;&emsp;&emsp;FA5  </h2>\n",
    "</div>\n",
    "\t\t<br><br><br>\n",
    "        \n",
    "        \n"
   ]
  },
  {
   "cell_type": "markdown",
   "id": "9adc8cad",
   "metadata": {},
   "source": [
    "Click to direct to the answer. \n",
    " \n",
    "<b>\n",
    "<li><a href=\"#section818\">  8.18 </a></li>\n",
    "<li><a href=\"#section821\">  8.21 </a></li> \n",
    "<li><a href=\"#section834\">  8.34 </a></li>\n",
    "<li><a href=\"#section849\">  8.49 </a></li>\n",
    "</b>\n",
    "\n"
   ]
  },
  {
   "cell_type": "markdown",
   "id": "624cbb99",
   "metadata": {},
   "source": [
    "<br> <br>\n",
    "\n",
    "\n",
    "\n",
    "# List all samples of size n=2 that are possible (with replacement) from the population in Problem 8.17.\n",
    "\n",
    "# <b> 8.18 <b>\n",
    "<section id=\"section818\"> </section>\n"
   ]
  },
  {
   "cell_type": "code",
   "execution_count": 50,
   "id": "fb74bf25",
   "metadata": {},
   "outputs": [],
   "source": [
    "import pandas as pd\n",
    "import numpy as np\n",
    "\n",
    "file_path = \"rosales_excelfile_no1.xlsx\"  \n",
    "data_sheet = pd.read_excel(file_path, sheet_name=\"VALUES\")\n",
    "\n",
    "a_data = data_sheet[\"A\"].values  \n",
    "datframe_a = pd.DataFrame({\"Sample Value A\": a_data})\n",
    "\n",
    "b_data = data_sheet[\"B\"].values \n",
    "datframe_b = pd.DataFrame({\"Sample Value B\": b_data})\n"
   ]
  },
  {
   "cell_type": "code",
   "execution_count": 51,
   "id": "e601ad29",
   "metadata": {},
   "outputs": [
    {
     "name": "stdout",
     "output_type": "stream",
     "text": [
      "   Sample Mean\n",
      "0          9.0\n",
      "1         10.5\n",
      "2         12.0\n",
      "3         10.5\n",
      "4         12.0\n",
      "5         13.5\n",
      "6         12.0\n",
      "7         13.5\n",
      "8         15.0\n",
      "12.0\n"
     ]
    }
   ],
   "source": [
    "c_data = []\n",
    "mean=0\n",
    "sum_mean=0\n",
    "for i in range(len(data_sheet)):\n",
    "    mean = (data_sheet[\"A\"].iloc[i] + data_sheet[\"B\"].iloc[i])/2\n",
    "    sum_mean += mean\n",
    "    c_data.append(mean)\n",
    "\n",
    "datframe_c = pd.DataFrame({\"Sample Mean\": c_data})\n",
    "print(datframe_c)\n",
    "\n",
    "c_ave_mean= sum_mean/len(data_sheet)\n",
    "print(c_ave_mean)"
   ]
  },
  {
   "cell_type": "code",
   "execution_count": 52,
   "id": "fee4d82a",
   "metadata": {
    "scrolled": true
   },
   "outputs": [
    {
     "name": "stdout",
     "output_type": "stream",
     "text": [
      "   xbar\n",
      "0   9.0\n",
      "1  10.5\n",
      "2  12.0\n",
      "3  13.5\n",
      "4  15.0\n",
      "5\n"
     ]
    }
   ],
   "source": [
    "d_data = []\n",
    "\n",
    "for value in c_data:\n",
    "    if value not in d_data:\n",
    "        d_data.append(value)\n",
    "datframe_d = pd.DataFrame({\"xbar\": d_data})\n",
    "print(datframe_d)\n",
    "print(len(d_data))\n",
    "\n"
   ]
  },
  {
   "cell_type": "code",
   "execution_count": 53,
   "id": "9e452db4",
   "metadata": {},
   "outputs": [
    {
     "name": "stdout",
     "output_type": "stream",
     "text": [
      "    p(xbar)\n",
      "0  0.111111\n",
      "1  0.222222\n",
      "2  0.333333\n",
      "3  0.222222\n",
      "4  0.111111\n",
      "5\n"
     ]
    }
   ],
   "source": [
    "e_data = []\n",
    "\n",
    "for i in range(len(d_data)):\n",
    "    d_value = d_data[i]\n",
    "    d_count = c_data.count(d_value)\n",
    "    p_xbar = d_count/len(c_data)\n",
    "    e_data.append(p_xbar)\n",
    "datframe_e = pd.DataFrame({\"p(xbar)\": e_data})\n",
    "print(datframe_e)\n",
    "print(len(e_data))"
   ]
  },
  {
   "cell_type": "code",
   "execution_count": 54,
   "id": "c3a6b5bd",
   "metadata": {},
   "outputs": [
    {
     "name": "stdout",
     "output_type": "stream",
     "text": [
      "   xbar X p(xbar)\n",
      "0        1.000000\n",
      "1        2.333333\n",
      "2        4.000000\n",
      "3        3.000000\n",
      "4        1.666667\n"
     ]
    },
    {
     "data": {
      "text/plain": [
       "11.999999999999998"
      ]
     },
     "execution_count": 54,
     "metadata": {},
     "output_type": "execute_result"
    }
   ],
   "source": [
    "f_data = []\n",
    "f_value=1\n",
    "sum_f= 0\n",
    "for i in range(len(d_data)):\n",
    "    f_value = d_data[i]*e_data[i]\n",
    "    f_data.append(f_value)\n",
    "    sum_f += f_value\n",
    "    \n",
    "datframe_f = pd.DataFrame({\"xbar X p(xbar)\": f_data})\n",
    "print(datframe_f)\n",
    "sum_f\n",
    "\n"
   ]
  },
  {
   "cell_type": "code",
   "execution_count": 55,
   "id": "acdfb691",
   "metadata": {
    "scrolled": true
   },
   "outputs": [
    {
     "name": "stdout",
     "output_type": "stream",
     "text": [
      "   xbar ^2 X p(xbar)\n",
      "0                9.0\n",
      "1               24.5\n",
      "2               48.0\n",
      "3               40.5\n",
      "4               25.0\n"
     ]
    },
    {
     "data": {
      "text/plain": [
       "''"
      ]
     },
     "execution_count": 55,
     "metadata": {},
     "output_type": "execute_result"
    }
   ],
   "source": [
    "g_data = []\n",
    "g_value=1\n",
    "sum_g= 0\n",
    "for i in range(len(d_data)):\n",
    "    g_value = (d_data[i]*d_data[i])*e_data[i]\n",
    "    g_data.append(g_value)\n",
    "    sum_g += g_value\n",
    "    \n",
    "datframe_g = pd.DataFrame({\"xbar ^2 X p(xbar)\": g_data})\n",
    "print(datframe_g)\n",
    "sum_g\n",
    "\n",
    "''"
   ]
  },
  {
   "cell_type": "code",
   "execution_count": 56,
   "id": "ecea07f5",
   "metadata": {},
   "outputs": [
    {
     "name": "stdout",
     "output_type": "stream",
     "text": [
      "╒════╤══════════════════╤══════════════════╤═══════════════╤════════╤════════════╤══════════════════╤═════════════════════╕\n",
      "│    │   Sample Value A │   Sample Value B │   Sample Mean │   xbar │    p(xbar) │   xbar X p(xbar) │   xbar ^2 X p(xbar) │\n",
      "╞════╪══════════════════╪══════════════════╪═══════════════╪════════╪════════════╪══════════════════╪═════════════════════╡\n",
      "│  0 │                9 │                9 │           9   │    9   │   0.111111 │          1       │                 9   │\n",
      "├────┼──────────────────┼──────────────────┼───────────────┼────────┼────────────┼──────────────────┼─────────────────────┤\n",
      "│  1 │                9 │               12 │          10.5 │   10.5 │   0.222222 │          2.33333 │                24.5 │\n",
      "├────┼──────────────────┼──────────────────┼───────────────┼────────┼────────────┼──────────────────┼─────────────────────┤\n",
      "│  2 │                9 │               15 │          12   │   12   │   0.333333 │          4       │                48   │\n",
      "├────┼──────────────────┼──────────────────┼───────────────┼────────┼────────────┼──────────────────┼─────────────────────┤\n",
      "│  3 │               12 │                9 │          10.5 │   13.5 │   0.222222 │          3       │                40.5 │\n",
      "├────┼──────────────────┼──────────────────┼───────────────┼────────┼────────────┼──────────────────┼─────────────────────┤\n",
      "│  4 │               12 │               12 │          12   │   15   │   0.111111 │          1.66667 │                25   │\n",
      "├────┼──────────────────┼──────────────────┼───────────────┼────────┼────────────┼──────────────────┼─────────────────────┤\n",
      "│  5 │               12 │               15 │          13.5 │  nan   │ nan        │        nan       │               nan   │\n",
      "├────┼──────────────────┼──────────────────┼───────────────┼────────┼────────────┼──────────────────┼─────────────────────┤\n",
      "│  6 │               15 │                9 │          12   │  nan   │ nan        │        nan       │               nan   │\n",
      "├────┼──────────────────┼──────────────────┼───────────────┼────────┼────────────┼──────────────────┼─────────────────────┤\n",
      "│  7 │               15 │               12 │          13.5 │  nan   │ nan        │        nan       │               nan   │\n",
      "├────┼──────────────────┼──────────────────┼───────────────┼────────┼────────────┼──────────────────┼─────────────────────┤\n",
      "│  8 │               15 │               15 │          15   │  nan   │ nan        │        nan       │               nan   │\n",
      "╘════╧══════════════════╧══════════════════╧═══════════════╧════════╧════════════╧══════════════════╧═════════════════════╛\n"
     ]
    }
   ],
   "source": [
    "import pandas as pd\n",
    "\n",
    "combined_dataframe = pd.concat([datframe_a, datframe_b, datframe_c, datframe_d, datframe_e, datframe_f, datframe_g], axis=1)\n",
    "\n",
    "from tabulate import tabulate\n",
    "table = tabulate(combined_dataframe, headers='keys', tablefmt='fancy_grid')\n",
    "print(table)\n",
    "#print(combined_dataframe.to_string(index=False))\n",
    "\n"
   ]
  },
  {
   "cell_type": "markdown",
   "id": "df7719a3",
   "metadata": {},
   "source": [
    "<br><br><br><br>\n",
    "# Showing  μ $\\bar{x}$ =  μ.\n"
   ]
  },
  {
   "cell_type": "code",
   "execution_count": 57,
   "id": "5a8df2ca",
   "metadata": {},
   "outputs": [
    {
     "name": "stdout",
     "output_type": "stream",
     "text": [
      "12.0 is Equals ≈ to 11.999999999999998\n"
     ]
    }
   ],
   "source": [
    "\n",
    "\n",
    "sum_c= 0\n",
    "ave=0 \n",
    "for i in c_data:\n",
    "    sum_c += i\n",
    "ave= sum_c/len(c_data)\n",
    "sum_c\n",
    "\n",
    "\n",
    "\n",
    "sum_f= 0\n",
    "for i in f_data:\n",
    "    sum_f += i\n",
    "\n",
    "sum_f\n",
    "\n",
    "print(ave,\"is Equals ≈ to\",sum_f)\n",
    "\n"
   ]
  },
  {
   "cell_type": "markdown",
   "id": "07698e3a",
   "metadata": {},
   "source": [
    "# Showing $\\sigma^2$ $\\bar{x}$ = $\\sigma^2$ / 2.\n"
   ]
  },
  {
   "cell_type": "markdown",
   "id": "25e22fb2",
   "metadata": {},
   "source": [
    "Show $\\sigma^2$ $\\bar{x}$"
   ]
  },
  {
   "cell_type": "code",
   "execution_count": 58,
   "id": "8be18dbe",
   "metadata": {},
   "outputs": [
    {
     "name": "stdout",
     "output_type": "stream",
     "text": [
      "3.0\n"
     ]
    }
   ],
   "source": [
    "c_sigma_sum=0\n",
    "for i in range(len(data_sheet)):\n",
    "    c_sigma_sum += (((c_data[i])-12)*((c_data[i])-12))\n",
    "\n",
    "c_sigma_over_mean= c_sigma_sum/len(data_sheet) \n",
    "print(c_sigma_over_mean)\n",
    "\n"
   ]
  },
  {
   "cell_type": "markdown",
   "id": "108d5a3e",
   "metadata": {},
   "source": [
    "We will get the $\\sigma^2$/2 of A"
   ]
  },
  {
   "cell_type": "code",
   "execution_count": 59,
   "id": "9b0ed260",
   "metadata": {},
   "outputs": [
    {
     "name": "stdout",
     "output_type": "stream",
     "text": [
      "3.0\n"
     ]
    }
   ],
   "source": [
    "a_sigma_sum=0\n",
    "for i in range(len(data_sheet)):\n",
    "    a_sigma_sum += (((data_sheet[\"A\"].iloc[i])-12)*((data_sheet[\"A\"].iloc[i])-12))\n",
    "\n",
    "a_sigma_over_mean= a_sigma_sum/len(data_sheet)  \n",
    "a_sigma_over_mean_over2 =  a_sigma_over_mean/2\n",
    "print(a_sigma_over_mean_over2)"
   ]
  },
  {
   "cell_type": "markdown",
   "id": "d72a5a3c",
   "metadata": {},
   "source": [
    "We will get the $\\sigma^2$/2 of B"
   ]
  },
  {
   "cell_type": "code",
   "execution_count": 60,
   "id": "3de6f23a",
   "metadata": {},
   "outputs": [
    {
     "name": "stdout",
     "output_type": "stream",
     "text": [
      "3.0\n"
     ]
    }
   ],
   "source": [
    "b_sigma_sum=0\n",
    "for i in range(len(data_sheet)):\n",
    "    b_sigma_sum += (((data_sheet[\"B\"].iloc[i])-12)*((data_sheet[\"B\"].iloc[i])-12))\n",
    "\n",
    "b_sigma_over_mean= b_sigma_sum/len(data_sheet)  \n",
    "b_sigma_over_mean_over2 =  b_sigma_over_mean/2\n",
    "print(b_sigma_over_mean_over2)"
   ]
  },
  {
   "cell_type": "markdown",
   "id": "7ddcd332",
   "metadata": {},
   "source": [
    "# THEREFORE HERE, WE HAVE SHOWN THAT μ $\\bar{x}$ =  μ. AND  $\\sigma^2$ $\\bar{x}$ = $\\sigma^2$ / 2. "
   ]
  },
  {
   "cell_type": "markdown",
   "id": "55ccda53",
   "metadata": {},
   "source": [
    "<br><br><br><br>\n",
    "\n",
    "# <b> 8.21   </b>\n",
    "\n",
    "<section id=\"section821\"> </section>\n",
    "A population consists of the five numbers 2, 3, 6, 8, and 11. Consider all possible samples of size 2\n",
    "that can be drawn with replacement from this population."
   ]
  },
  {
   "cell_type": "markdown",
   "id": "209421a6",
   "metadata": {},
   "source": [
    "\n",
    "# Find (a) the mean of the population"
   ]
  },
  {
   "cell_type": "code",
   "execution_count": 61,
   "id": "cb05623d",
   "metadata": {},
   "outputs": [
    {
     "name": "stdout",
     "output_type": "stream",
     "text": [
      "9.0\n"
     ]
    }
   ],
   "source": [
    "\n",
    "array_pop = [3, 7, 11, 15]\n",
    "\n",
    "array_pop_sum=0\n",
    "for i in range(len(array_pop)):\n",
    "    array_pop_sum += (array_pop[i])\n",
    "\n",
    "array_pop_mean= array_pop_sum/len(array_pop) \n",
    "print(array_pop_mean)\n",
    "\n",
    "\n",
    "\n"
   ]
  },
  {
   "cell_type": "markdown",
   "id": "ca599043",
   "metadata": {},
   "source": [
    "# (b) the standard deviation of the population"
   ]
  },
  {
   "cell_type": "code",
   "execution_count": 62,
   "id": "c69d4bc7",
   "metadata": {},
   "outputs": [
    {
     "name": "stdout",
     "output_type": "stream",
     "text": [
      "20.0\n"
     ]
    }
   ],
   "source": [
    "\n",
    "array_pop = [3, 7, 11, 15]\n",
    "\n",
    "std_sum_array_pop=0\n",
    "for i in range(len(array_pop)):\n",
    "    std_sum_array_pop += ((array_pop[i])-array_pop_mean)*((array_pop[i])-array_pop_mean)\n",
    "\n",
    "std_array_pop= std_sum_array_pop/len(array_pop)  \n",
    "print(std_array_pop)\n",
    "\n",
    "\n",
    "\n"
   ]
  },
  {
   "cell_type": "markdown",
   "id": "6c72cc6a",
   "metadata": {},
   "source": [
    "# (c) the mean of the sampling distribution of means\n",
    "Now, we have 4(4) = 16 samples of size 2"
   ]
  },
  {
   "cell_type": "code",
   "execution_count": 63,
   "id": "c112b79f",
   "metadata": {},
   "outputs": [
    {
     "name": "stdout",
     "output_type": "stream",
     "text": [
      "Corresponding means: [3.0, 5.0, 7.0, 9.0, 5.0, 7.0, 9.0, 11.0, 7.0, 9.0, 11.0, 13.0, 9.0, 11.0, 13.0, 15.0]\n",
      "The mean of Sampling Mean is: 9.0\n"
     ]
    }
   ],
   "source": [
    "\n",
    "import itertools\n",
    "\n",
    "combinations = list(itertools.product(array_pop, repeat=2))\n",
    "\n",
    "\n",
    "# Calculate the means for each combination\n",
    "corres_mean = [sum(combination) / 2 for combination in combinations]\n",
    "\n",
    "\n",
    "# Print the corresponding means\n",
    "print(\"Corresponding means:\", corres_mean)\n",
    "\n",
    "\n",
    "sum_mean_array_pop=0\n",
    "for i in range(len(corres_mean)):\n",
    "    sum_mean_array_pop += ((corres_mean[i]))\n",
    "\n",
    "\n",
    "mean_value= sum_mean_array_pop / len(combinations)\n",
    "print(\"The mean of Sampling Mean is:\", mean_value)\n"
   ]
  },
  {
   "cell_type": "markdown",
   "id": "6baa9eb7",
   "metadata": {},
   "source": [
    "# (d ) the standard deviation of the sampling distribution of means."
   ]
  },
  {
   "cell_type": "code",
   "execution_count": 64,
   "id": "ae42afe9",
   "metadata": {},
   "outputs": [
    {
     "name": "stdout",
     "output_type": "stream",
     "text": [
      "10.0\n"
     ]
    }
   ],
   "source": [
    "\n",
    "\n",
    "newstd_sum_array_pop=0\n",
    "for i in range(len(combinations)):\n",
    "    newstd_sum_array_pop += ((corres_mean[i])-array_pop_mean)*((corres_mean[i])-array_pop_mean)\n",
    "\n",
    "newstd_array_pop= newstd_sum_array_pop/len(combinations)  \n",
    "print(newstd_array_pop)\n",
    "\n",
    "\n",
    "\n"
   ]
  },
  {
   "cell_type": "markdown",
   "id": "022d6f55",
   "metadata": {},
   "source": [
    "<br><br><br><br>\n",
    "\n",
    "#  <b>8.34  </b>\n",
    "\n",
    "<section id=\"section834\"> </section>\n",
    "Find the probability that of the next 200 children born, \n",
    "\n",
    "# (a) less than 40% will be boys, "
   ]
  },
  {
   "cell_type": "code",
   "execution_count": 65,
   "id": "30207ed1",
   "metadata": {},
   "outputs": [
    {
     "name": "stdout",
     "output_type": "stream",
     "text": [
      "a.Probability that less than 40% will be boys: 0.0018174739762649625\n"
     ]
    }
   ],
   "source": [
    "import scipy.stats as stats\n",
    "\n",
    "prob = 0.5\n",
    "\n",
    "population = 200\n",
    "\n",
    "givenprob = int(0.40 * population)\n",
    "\n",
    "probless_40 = sum(stats.binom.pmf(range(givenprob), population, prob))\n",
    "print(\"a.Probability that less than 40% will be boys:\", probless_40)\n",
    "\n",
    "\n"
   ]
  },
  {
   "cell_type": "markdown",
   "id": "91bb9e97",
   "metadata": {},
   "source": [
    "\n",
    "# (b) between 43% and 57% will be girls, and "
   ]
  },
  {
   "cell_type": "code",
   "execution_count": 66,
   "id": "477505c9",
   "metadata": {},
   "outputs": [
    {
     "name": "stdout",
     "output_type": "stream",
     "text": [
      "b. Probability that between 43% and 57% will be girls: 0.9519985339461676\n"
     ]
    }
   ],
   "source": [
    "givenprob_l = int(0.43 * population)\n",
    "givenprob_u = int(0.57 * population)\n",
    "prob43to57 = sum(stats.binom.pmf(range(givenprob_l, givenprob_u + 1), population, prob))\n",
    "print(\"b. Probability that between 43% and 57% will be girls:\", prob43to57)\n"
   ]
  },
  {
   "cell_type": "markdown",
   "id": "8dce08c2",
   "metadata": {},
   "source": [
    "\n",
    "# (c) more than 54% will be boys. Assume equal probabilities for the births of boys and girls"
   ]
  },
  {
   "cell_type": "code",
   "execution_count": 67,
   "id": "ad15447d",
   "metadata": {},
   "outputs": [
    {
     "name": "stdout",
     "output_type": "stream",
     "text": [
      "c. Probability that more than 54% will be boys: 0.11462329862985798\n"
     ]
    }
   ],
   "source": [
    "\n",
    "givenprob_c = int(0.54 * population)\n",
    "prob54etc = 1 - sum(stats.binom.pmf(range(givenprob_c + 1), population, prob))\n",
    "print(\"c. Probability that more than 54% will be boys:\", prob54etc)"
   ]
  },
  {
   "cell_type": "markdown",
   "id": "646c991c",
   "metadata": {},
   "source": [
    "<br><br><br><br>\n",
    "# <b>8.49 </b>  \n",
    "The credit hour distribution at Metropolitan Technological College is as follows:\n",
    "\n",
    "<section id=\"section849\"> </section>"
   ]
  },
  {
   "cell_type": "markdown",
   "id": "dc081b93",
   "metadata": {},
   "source": [
    "# Showing the value of $\\sigma$ and μ"
   ]
  },
  {
   "cell_type": "code",
   "execution_count": 68,
   "id": "779c3726",
   "metadata": {},
   "outputs": [
    {
     "name": "stdout",
     "output_type": "stream",
     "text": [
      "The Mean is equals to 12.000000000000002\n",
      "Variance is equals to 10.8\n"
     ]
    }
   ],
   "source": [
    "samplepopulation = [6, 9, 12, 15, 18]\n",
    "probabilitydis = [0.1, 0.2, 0.4, 0.2, 0.1]\n",
    "\n",
    "mean = sum(x * p for x, p in zip(samplepopulation, probabilitydis))\n",
    "print(\"The Mean is equals to\", mean )\n",
    "\n",
    "variance = sum((x - mean) ** 2 * p for x, p in zip(samplepopulation, probabilitydis))\n",
    "print(\"Variance is equals to\", variance )\n"
   ]
  },
  {
   "cell_type": "code",
   "execution_count": 69,
   "id": "493e619e",
   "metadata": {},
   "outputs": [
    {
     "name": "stdout",
     "output_type": "stream",
     "text": [
      "   Sample Combinations  Mean  Probability\n",
      "0       1       (6, 6)   6.0         0.01\n",
      "1       2       (6, 9)   7.5         0.02\n",
      "2       3      (6, 12)   9.0         0.04\n",
      "3       4      (6, 15)  10.5         0.02\n",
      "4       5      (6, 18)  12.0         0.01\n",
      "5       6       (9, 6)   7.5         0.02\n",
      "6       7       (9, 9)   9.0         0.04\n",
      "7       8      (9, 12)  10.5         0.08\n",
      "8       9      (9, 15)  12.0         0.04\n",
      "9      10      (9, 18)  13.5         0.02\n",
      "10     11      (12, 6)   9.0         0.04\n",
      "11     12      (12, 9)  10.5         0.08\n",
      "12     13     (12, 12)  12.0         0.16\n",
      "13     14     (12, 15)  13.5         0.08\n",
      "14     15     (12, 18)  15.0         0.04\n",
      "15     16      (15, 6)  10.5         0.02\n",
      "16     17      (15, 9)  12.0         0.04\n",
      "17     18     (15, 12)  13.5         0.08\n",
      "18     19     (15, 15)  15.0         0.04\n",
      "19     20     (15, 18)  16.5         0.02\n",
      "20     21      (18, 6)  12.0         0.01\n",
      "21     22      (18, 9)  13.5         0.02\n",
      "22     23     (18, 12)  15.0         0.04\n",
      "23     24     (18, 15)  16.5         0.02\n",
      "24     25     (18, 18)  18.0         0.01\n"
     ]
    }
   ],
   "source": [
    "import itertools\n",
    "\n",
    "sample_combinations = list(itertools.product(samplepopulation, repeat=2))\n",
    "\n",
    "sample_means = [(x1 + x2) / 2 for x1, x2 in sample_combinations]\n",
    "sample_probabilities = [p1 * p2 for p1, p2 in itertools.product(probabilitydis, repeat=2)]\n",
    "\n",
    "\n",
    "sample_no= []\n",
    "sample_combinations_table = []\n",
    "sample_means_table = []\n",
    "sample_probabilities_table = []\n",
    "\n",
    "\n",
    "for i in range(25):\n",
    "    sample_no.append(f\"{i+1}\") \n",
    "    sample_combinations_table.append(sample_combinations[i])\n",
    "    sample_means_table.append(round(sample_means[i] , 3))  \n",
    "    sample_probabilities_table.append(round(sample_probabilities[i], 5)) \n",
    "\n",
    "\n",
    "data = {\n",
    "    \"Sample\": sample_no,\n",
    "    \"Combinations\": sample_combinations_table,\n",
    "    \"Mean\": sample_means_table,\n",
    "    \"Probability\": sample_probabilities_table\n",
    "}\n",
    "\n",
    "df = pd.DataFrame(data)\n",
    "\n",
    "print(df)\n"
   ]
  }
 ],
 "metadata": {
  "kernelspec": {
   "display_name": "Python 3 (ipykernel)",
   "language": "python",
   "name": "python3"
  },
  "language_info": {
   "codemirror_mode": {
    "name": "ipython",
    "version": 3
   },
   "file_extension": ".py",
   "mimetype": "text/x-python",
   "name": "python",
   "nbconvert_exporter": "python",
   "pygments_lexer": "ipython3",
   "version": "3.11.3"
  }
 },
 "nbformat": 4,
 "nbformat_minor": 5
}
